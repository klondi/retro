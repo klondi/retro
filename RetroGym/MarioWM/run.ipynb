{
 "cells": [
  {
   "cell_type": "code",
   "execution_count": 1,
   "metadata": {},
   "outputs": [
    {
     "name": "stdout",
     "output_type": "stream",
     "text": [
      "2021-02-10 15:28:57.725338: W tensorflow/stream_executor/platform/default/dso_loader.cc:60] Could not load dynamic library 'libcudart.so.11.0'; dlerror: libcudart.so.11.0: cannot open shared object file: No such file or directory\n",
      "2021-02-10 15:28:57.725356: I tensorflow/stream_executor/cuda/cudart_stub.cc:29] Ignore above cudart dlerror if you do not have a GPU set up on your machine.\n",
      "Logging to /tmp/openai-2021-02-10-15-28-58-256100\n",
      "Creating dummy env object to get spaces\n",
      "/home/peli/retro/RetroGym/MarioWM/a2c_ppo_acktr/model.py:221: UserWarning: To copy construct from a tensor, it is recommended to use sourceTensor.clone().detach() or sourceTensor.clone().detach().requires_grad_(True), rather than torch.tensor(sourceTensor).\n",
      "  z= torch.tensor((trace),dtype = torch.long)\n",
      "^C\n",
      "Traceback (most recent call last):\n",
      "  File \"main.py\", line 210, in <module>\n",
      "    main()\n",
      "  File \"main.py\", line 136, in main\n",
      "    obs, reward, done, infos = envs.step(action)\n",
      "  File \"/home/peli/retro/RetroGym/baselines-master/baselines/common/vec_env/vec_env.py\", line 108, in step\n",
      "ShmemVecEnv worker: got KeyboardInterrupt\n",
      "ShmemVecEnv worker: got KeyboardInterrupt\n",
      "    return self.step_wait()\n",
      "  File \"/home/peli/retro/RetroGym/MarioWM/a2c_ppo_acktr/envs.py\", line 410, in step_wait\n",
      "    obs, rews, news, infos = self.venv.step_wait()\n",
      "  File \"/home/peli/retro/RetroGym/MarioWM/a2c_ppo_acktr/envs.py\", line 358, in step_wait\n",
      "    obs, reward, done, info = self.venv.step_wait()\n",
      "  File \"/home/peli/retro/RetroGym/baselines-master/baselines/common/vec_env/shmem_vec_env.py\", line 76, in step_wait\n",
      "    outs = [pipe.recv() for pipe in self.parent_pipes]\n",
      "  File \"/home/peli/retro/RetroGym/baselines-master/baselines/common/vec_env/shmem_vec_env.py\", line 76, in <listcomp>\n",
      "    outs = [pipe.recv() for pipe in self.parent_pipes]\n",
      "  File \"/usr/lib/python3.8/multiprocessing/connection.py\", line 250, in recv\n",
      "    buf = self._recv_bytes()\n",
      "  File \"/usr/lib/python3.8/multiprocessing/connection.py\", line 414, in _recv_bytes\n",
      "    buf = self._recv(4)\n",
      "  File \"/usr/lib/python3.8/multiprocessing/connection.py\", line 379, in _recv\n",
      "    chunk = read(handle, remaining)\n",
      "KeyboardInterrupt\n"
     ]
    }
   ],
   "source": [
    "!python main.py --env-name \"Mario-v1\" --algo ppo --skip  --use-linear-lr-decay --use-gae --trace-size 100 --vocab-size 5000 --lr 2.5e-5 --clip-param 0.1 --value-loss-coef 0.5 --num-processes 2 --num-steps 40 --num-mini-batch 1 --log-interval 5   --entropy-coef 0.01 "
   ]
  },
  {
   "cell_type": "code",
   "execution_count": null,
   "metadata": {},
   "outputs": [],
   "source": []
  }
 ],
 "metadata": {
  "kernelspec": {
   "display_name": "Python 3",
   "language": "python",
   "name": "python3"
  },
  "language_info": {
   "codemirror_mode": {
    "name": "ipython",
    "version": 3
   },
   "file_extension": ".py",
   "mimetype": "text/x-python",
   "name": "python",
   "nbconvert_exporter": "python",
   "pygments_lexer": "ipython3",
   "version": "3.8.5"
  }
 },
 "nbformat": 4,
 "nbformat_minor": 4
}
