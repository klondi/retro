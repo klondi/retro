{
 "cells": [
  {
   "cell_type": "code",
   "execution_count": null,
   "metadata": {},
   "outputs": [],
   "source": [
    "!python main.py --env-name \"Mario-v1\" --trace-size 500 --rtrace-length 500 --model 2 --weird --autoshroom --episode-length 200 --algo ppo --recurrent-policy --skip --use-linear-lr-decay --use-gae --lr 2.5e-5 --clip-param 0.1 --value-loss-coef 0.5 --num-processes 20 --num-steps 40 --num-mini-batch 10 --log-interval 5  --entropy-coef 0.01"
   ]
  },
  {
   "cell_type": "code",
   "execution_count": null,
   "metadata": {},
   "outputs": [],
   "source": []
  },
  {
   "cell_type": "code",
   "execution_count": null,
   "metadata": {},
   "outputs": [],
   "source": []
  }
 ],
 "metadata": {
  "kernelspec": {
   "display_name": "Python 3",
   "language": "python",
   "name": "python3"
  },
  "language_info": {
   "codemirror_mode": {
    "name": "ipython",
    "version": 3
   },
   "file_extension": ".py",
   "mimetype": "text/x-python",
   "name": "python",
   "nbconvert_exporter": "python",
   "pygments_lexer": "ipython3",
   "version": "3.8.5"
  }
 },
 "nbformat": 4,
 "nbformat_minor": 4
}
